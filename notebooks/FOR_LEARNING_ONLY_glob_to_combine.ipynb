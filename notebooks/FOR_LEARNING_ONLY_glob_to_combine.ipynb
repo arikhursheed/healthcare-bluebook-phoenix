{
 "cells": [
  {
   "cell_type": "markdown",
   "metadata": {},
   "source": [
    "### Bring in pickled files and combine into one file"
   ]
  },
  {
   "cell_type": "code",
   "execution_count": 2,
   "metadata": {},
   "outputs": [],
   "source": [
    "from glob import glob \n",
    "import pickle\n",
    "import pandas as pd\n",
    "import matplotlib.pyplot as plt\n",
    "import numpy as np\n",
    "%matplotlib inline"
   ]
  },
  {
   "cell_type": "code",
   "execution_count": 3,
   "metadata": {
    "scrolled": true
   },
   "outputs": [
    {
     "data": {
      "text/plain": [
       "['../data/1_medicare_data/pickled_files\\\\payments_2015.pkl',\n",
       " '../data/1_medicare_data/pickled_files\\\\payments_2016.pkl',\n",
       " '../data/1_medicare_data/pickled_files\\\\payments_2017.pkl']"
      ]
     },
     "execution_count": 3,
     "metadata": {},
     "output_type": "execute_result"
    }
   ],
   "source": [
    "file_list = sorted(glob('../data/1_medicare_data/pickled_files/payments_*.pkl'))\n",
    "file_list"
   ]
  },
  {
   "cell_type": "code",
   "execution_count": 4,
   "metadata": {},
   "outputs": [],
   "source": [
    "df_payments_combined = pd.concat((pd.read_pickle(file)\n",
    "                                  for file in file_list), ignore_index= True)"
   ]
  },
  {
   "cell_type": "code",
   "execution_count": 7,
   "metadata": {
    "scrolled": true
   },
   "outputs": [
    {
     "data": {
      "text/html": [
       "<div>\n",
       "<style scoped>\n",
       "    .dataframe tbody tr th:only-of-type {\n",
       "        vertical-align: middle;\n",
       "    }\n",
       "\n",
       "    .dataframe tbody tr th {\n",
       "        vertical-align: top;\n",
       "    }\n",
       "\n",
       "    .dataframe thead th {\n",
       "        text-align: right;\n",
       "    }\n",
       "</style>\n",
       "<table border=\"1\" class=\"dataframe\">\n",
       "  <thead>\n",
       "    <tr style=\"text-align: right;\">\n",
       "      <th></th>\n",
       "      <th>national_provider_identifier</th>\n",
       "      <th>last_name_organization_name_of_the_provider</th>\n",
       "      <th>entity_type_of_the_provider</th>\n",
       "      <th>city_of_the_provider</th>\n",
       "      <th>zip_code_of_the_provider</th>\n",
       "      <th>state_code_of_the_provider</th>\n",
       "      <th>provider_type</th>\n",
       "      <th>place_of_service</th>\n",
       "      <th>number_of_services</th>\n",
       "      <th>number_of_medicare_beneficiaries</th>\n",
       "      <th>number_of_distinct_medicare_beneficiary_per_day_services</th>\n",
       "      <th>average_medicare_allowed_amount</th>\n",
       "      <th>year</th>\n",
       "    </tr>\n",
       "  </thead>\n",
       "  <tbody>\n",
       "    <tr>\n",
       "      <th>0</th>\n",
       "      <td>1003000126</td>\n",
       "      <td>ENKESHAFI</td>\n",
       "      <td>I</td>\n",
       "      <td>CUMBERLAND</td>\n",
       "      <td>215021854</td>\n",
       "      <td>MD</td>\n",
       "      <td>Internal Medicine</td>\n",
       "      <td>F</td>\n",
       "      <td>23.0</td>\n",
       "      <td>23.0</td>\n",
       "      <td>23.0</td>\n",
       "      <td>72.680000</td>\n",
       "      <td>2015</td>\n",
       "    </tr>\n",
       "    <tr>\n",
       "      <th>1</th>\n",
       "      <td>1003000126</td>\n",
       "      <td>ENKESHAFI</td>\n",
       "      <td>I</td>\n",
       "      <td>CUMBERLAND</td>\n",
       "      <td>215021854</td>\n",
       "      <td>MD</td>\n",
       "      <td>Internal Medicine</td>\n",
       "      <td>F</td>\n",
       "      <td>18.0</td>\n",
       "      <td>18.0</td>\n",
       "      <td>18.0</td>\n",
       "      <td>135.850000</td>\n",
       "      <td>2015</td>\n",
       "    </tr>\n",
       "    <tr>\n",
       "      <th>2</th>\n",
       "      <td>1003000126</td>\n",
       "      <td>ENKESHAFI</td>\n",
       "      <td>I</td>\n",
       "      <td>CUMBERLAND</td>\n",
       "      <td>215021854</td>\n",
       "      <td>MD</td>\n",
       "      <td>Internal Medicine</td>\n",
       "      <td>F</td>\n",
       "      <td>59.0</td>\n",
       "      <td>58.0</td>\n",
       "      <td>59.0</td>\n",
       "      <td>101.365085</td>\n",
       "      <td>2015</td>\n",
       "    </tr>\n",
       "    <tr>\n",
       "      <th>3</th>\n",
       "      <td>1003000126</td>\n",
       "      <td>ENKESHAFI</td>\n",
       "      <td>I</td>\n",
       "      <td>CUMBERLAND</td>\n",
       "      <td>215021854</td>\n",
       "      <td>MD</td>\n",
       "      <td>Internal Medicine</td>\n",
       "      <td>F</td>\n",
       "      <td>132.0</td>\n",
       "      <td>130.0</td>\n",
       "      <td>132.0</td>\n",
       "      <td>139.010455</td>\n",
       "      <td>2015</td>\n",
       "    </tr>\n",
       "    <tr>\n",
       "      <th>4</th>\n",
       "      <td>1003000126</td>\n",
       "      <td>ENKESHAFI</td>\n",
       "      <td>I</td>\n",
       "      <td>CUMBERLAND</td>\n",
       "      <td>215021854</td>\n",
       "      <td>MD</td>\n",
       "      <td>Internal Medicine</td>\n",
       "      <td>F</td>\n",
       "      <td>220.0</td>\n",
       "      <td>215.0</td>\n",
       "      <td>220.0</td>\n",
       "      <td>205.185955</td>\n",
       "      <td>2015</td>\n",
       "    </tr>\n",
       "  </tbody>\n",
       "</table>\n",
       "</div>"
      ],
      "text/plain": [
       "   national_provider_identifier last_name_organization_name_of_the_provider  \\\n",
       "0                    1003000126                                   ENKESHAFI   \n",
       "1                    1003000126                                   ENKESHAFI   \n",
       "2                    1003000126                                   ENKESHAFI   \n",
       "3                    1003000126                                   ENKESHAFI   \n",
       "4                    1003000126                                   ENKESHAFI   \n",
       "\n",
       "  entity_type_of_the_provider city_of_the_provider zip_code_of_the_provider  \\\n",
       "0                           I           CUMBERLAND                215021854   \n",
       "1                           I           CUMBERLAND                215021854   \n",
       "2                           I           CUMBERLAND                215021854   \n",
       "3                           I           CUMBERLAND                215021854   \n",
       "4                           I           CUMBERLAND                215021854   \n",
       "\n",
       "  state_code_of_the_provider      provider_type place_of_service  \\\n",
       "0                         MD  Internal Medicine                F   \n",
       "1                         MD  Internal Medicine                F   \n",
       "2                         MD  Internal Medicine                F   \n",
       "3                         MD  Internal Medicine                F   \n",
       "4                         MD  Internal Medicine                F   \n",
       "\n",
       "   number_of_services  number_of_medicare_beneficiaries  \\\n",
       "0                23.0                              23.0   \n",
       "1                18.0                              18.0   \n",
       "2                59.0                              58.0   \n",
       "3               132.0                             130.0   \n",
       "4               220.0                             215.0   \n",
       "\n",
       "   number_of_distinct_medicare_beneficiary_per_day_services  \\\n",
       "0                                               23.0          \n",
       "1                                               18.0          \n",
       "2                                               59.0          \n",
       "3                                              132.0          \n",
       "4                                              220.0          \n",
       "\n",
       "   average_medicare_allowed_amount  year  \n",
       "0                        72.680000  2015  \n",
       "1                       135.850000  2015  \n",
       "2                       101.365085  2015  \n",
       "3                       139.010455  2015  \n",
       "4                       205.185955  2015  "
      ]
     },
     "execution_count": 7,
     "metadata": {},
     "output_type": "execute_result"
    }
   ],
   "source": [
    "df_payments_combined.head()"
   ]
  }
 ],
 "metadata": {
  "kernelspec": {
   "display_name": "Python 3",
   "language": "python",
   "name": "python3"
  },
  "language_info": {
   "codemirror_mode": {
    "name": "ipython",
    "version": 3
   },
   "file_extension": ".py",
   "mimetype": "text/x-python",
   "name": "python",
   "nbconvert_exporter": "python",
   "pygments_lexer": "ipython3",
   "version": "3.7.6"
  }
 },
 "nbformat": 4,
 "nbformat_minor": 4
}
