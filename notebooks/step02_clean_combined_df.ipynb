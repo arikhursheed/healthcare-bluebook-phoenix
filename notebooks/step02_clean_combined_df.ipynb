{
 "cells": [
  {
   "cell_type": "markdown",
   "metadata": {},
   "source": [
    "### Updated 6/2/2020:\n",
    "- Moved the code that eliminated the unnecessary row from this notebook. Put it in the \"step01...\" notebook, so that the pickle file won't have that row in it.\n",
    "\n",
    "## Step 2: Cleaning the combined df based on discoveries made during initial EDA.\n",
    "1. Eliminate irrelevant row from 2015 (similar to a footnote, not needed)\n",
    "2. Add column to show payment_type (Doctor Only, Facility Only, Doctor & Facility)\n",
    "3. Create df_payments_combined file to use for the rest of the process.\n",
    "\n",
    "\n",
    "### See next notebook named \"step03_EDA_and_analysis\" for additional EDA and work torwards our deliverables"
   ]
  },
  {
   "cell_type": "markdown",
   "metadata": {},
   "source": [
    "### Drop irrelevant row from 2015"
   ]
  },
  {
   "cell_type": "code",
   "execution_count": null,
   "metadata": {},
   "outputs": [],
   "source": [
    "import pandas as pd\n",
    "import pickle\n",
    "import numpy as np"
   ]
  },
  {
   "cell_type": "code",
   "execution_count": null,
   "metadata": {},
   "outputs": [],
   "source": [
    "df_payments_combined_draft = pd.read_pickle('../data/pickled_files/payments_combined_draft.pkl')\n",
    "print(df_payments_combined_draft.shape)\n",
    "df_payments_combined_draft.head()"
   ]
  },
  {
   "cell_type": "markdown",
   "metadata": {},
   "source": [
    "### Adding column to indicate whether payment is Doctor Only, Facility Only, or Doctor & Facility\n",
    "\n",
    "**Entity Type**  \n",
    "I = Individual  \n",
    "O = Organization  \n",
    "\n",
    "**Place of Service**  \n",
    "O = Office  \n",
    "F = Facility  \n",
    "\n",
    "**Entity, Place = Description**  \n",
    "I, F = Doctor Only  \n",
    "I, O = Doctor & Facility\n",
    "O, F = Facility Only  \n",
    "O, O = Doctor & Facility\n"
   ]
  },
  {
   "cell_type": "code",
   "execution_count": null,
   "metadata": {},
   "outputs": [],
   "source": [
    "# Step 1 to add new column with payment type (Code from Deigo)\n",
    "\n",
    "conditions = [\n",
    "    (df_payments_combined_draft.place_of_service == 'O'),\n",
    "    (df_payments_combined_draft.entity_type_of_the_provider == 'I') & (df_payments_combined_draft.place_of_service == 'F'),\n",
    "    (df_payments_combined_draft.entity_type_of_the_provider == 'O') & (df_payments_combined_draft.place_of_service == 'F')\n",
    "]\n",
    "\n",
    "choices = ['Doctor & Facility', 'Doctor Only', 'Facility Only']"
   ]
  },
  {
   "cell_type": "code",
   "execution_count": null,
   "metadata": {},
   "outputs": [],
   "source": [
    "# Step 2 to add new column with payment type (Code from Deigo)\n",
    "\n",
    "df_payments_combined_draft['payment_type'] = np.select(conditions, choices, default = 'unknown')"
   ]
  },
  {
   "cell_type": "code",
   "execution_count": null,
   "metadata": {},
   "outputs": [],
   "source": [
    "# Confirmed that there are no \"unknown\" values.\n",
    "\n",
    "df_payments_combined_draft['payment_type'].unique()"
   ]
  },
  {
   "cell_type": "code",
   "execution_count": null,
   "metadata": {
    "scrolled": true
   },
   "outputs": [],
   "source": [
    "# Double checking that it work. All set!\n",
    "\n",
    "df_payments_combined_draft.tail()"
   ]
  },
  {
   "cell_type": "markdown",
   "metadata": {},
   "source": [
    "### Rename df to the final name the team is using:  df_payments_combined"
   ]
  },
  {
   "cell_type": "code",
   "execution_count": null,
   "metadata": {},
   "outputs": [],
   "source": [
    "# To rename df to match the class, after cleaning\n",
    "\n",
    "df_payments_combined = df_payments_combined_draft\n",
    "df_payments_combined.head()"
   ]
  },
  {
   "cell_type": "code",
   "execution_count": null,
   "metadata": {},
   "outputs": [],
   "source": [
    "df_payments_combined.to_pickle('..\\data\\pickled_files\\payments_combined.pkl')"
   ]
  },
  {
   "cell_type": "markdown",
   "metadata": {},
   "source": [
    "### See next notebook named \"step03_EDA_and_analysis\" for additional EDA and work torwards our deliverables"
   ]
  }
 ],
 "metadata": {
  "kernelspec": {
   "display_name": "Python 3",
   "language": "python",
   "name": "python3"
  },
  "language_info": {
   "codemirror_mode": {
    "name": "ipython",
    "version": 3
   },
   "file_extension": ".py",
   "mimetype": "text/x-python",
   "name": "python",
   "nbconvert_exporter": "python",
   "pygments_lexer": "ipython3",
   "version": "3.7.3"
  }
 },
 "nbformat": 4,
 "nbformat_minor": 2
}
