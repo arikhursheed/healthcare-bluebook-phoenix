{
 "cells": [
  {
   "cell_type": "markdown",
   "metadata": {},
   "source": [
    "## EDA on Payment Amount\n",
    "- This EDA  is being done by Lori & Teresa\n",
    "\n",
    "### New approach:  Concerned that outliers have been 'buried' in the combined/grouped dfs. I'm going back to working with 2015 data, only and Teresa is going to work on 2016 to see if we can find outliers that way.\n",
    "\n",
    "- Reminder of question we're answering: \n",
    "    - Goals 2: Which procedures had the largest change in Average payment?\n",
    "- Looking for outliers or other releveant infromation\n",
    "    - Why is there such a large variance between mean and median in payment amount?"
   ]
  },
  {
   "cell_type": "code",
   "execution_count": null,
   "metadata": {},
   "outputs": [],
   "source": [
    "import pandas as pd\n",
    "import pickle\n",
    "from glob import glob\n",
    "import matplotlib.pyplot as plt\n",
    "import seaborn as sns\n",
    "import numpy as np"
   ]
  },
  {
   "cell_type": "code",
   "execution_count": null,
   "metadata": {},
   "outputs": [],
   "source": [
    "# Reading in 2015 pickle file (clean; doesn't have the irrelevant row)\n",
    "\n",
    "df_payments_2015 = pd.read_pickle('../data/pickled_files/payments_2015.pkl')\n",
    "print(df_payments_2015.shape)\n",
    "df_payments_2015.head()"
   ]
  },
  {
   "cell_type": "code",
   "execution_count": null,
   "metadata": {},
   "outputs": [],
   "source": [
    "df_payments_2015.tail()"
   ]
  },
  {
   "cell_type": "markdown",
   "metadata": {},
   "source": [
    "### Add new columnt with payment type\n",
    "(Code from Diego)"
   ]
  },
  {
   "cell_type": "code",
   "execution_count": null,
   "metadata": {},
   "outputs": [],
   "source": [
    "# Step 1 to add new column with payment type (Code from Deigo)\n",
    "\n",
    "conditions = [\n",
    "    (df_payments_2015.place_of_service == 'O'),\n",
    "    (df_payments_2015.entity_type_of_the_provider == 'I') & (df_payments_2015.place_of_service == 'F'),\n",
    "    (df_payments_2015.entity_type_of_the_provider == 'O') & (df_payments_2015.place_of_service == 'F')\n",
    "]\n",
    "\n",
    "choices = ['Doctor & Facility', 'Doctor Only', 'Facility Only']"
   ]
  },
  {
   "cell_type": "code",
   "execution_count": null,
   "metadata": {},
   "outputs": [],
   "source": [
    "# Step 2 to add new column with payment type (Code from Deigo)\n",
    "\n",
    "df_payments_2015['payment_type'] = np.select(conditions, choices, default = 'unknown')"
   ]
  },
  {
   "cell_type": "code",
   "execution_count": null,
   "metadata": {},
   "outputs": [],
   "source": [
    "# Confirmed that there are no \"unknown\" values.  THERE ARE UNKNOWNS. RESEARCHING FURTHER\n",
    "\n",
    "df_payments_2015['payment_type'].unique()"
   ]
  },
  {
   "cell_type": "code",
   "execution_count": null,
   "metadata": {},
   "outputs": [],
   "source": [
    "df_payments_2015.columns"
   ]
  },
  {
   "cell_type": "code",
   "execution_count": null,
   "metadata": {},
   "outputs": [],
   "source": [
    "df_pmts_subset_2015 = df_payments_2015[['year',\n",
    "                                       'payment_type', \n",
    "                                       'hcpcs_code', \n",
    "                                       'average_medicare_allowed_amount'\n",
    "                                      ]]"
   ]
  },
  {
   "cell_type": "code",
   "execution_count": null,
   "metadata": {},
   "outputs": [],
   "source": [
    "df_pmts_subset_2015.head()"
   ]
  },
  {
   "cell_type": "code",
   "execution_count": null,
   "metadata": {},
   "outputs": [],
   "source": [
    "type(df_pmts_subset_2015)"
   ]
  },
  {
   "cell_type": "code",
   "execution_count": null,
   "metadata": {},
   "outputs": [],
   "source": [
    "%%time\n",
    "# Takes a long time to run\n",
    "\n",
    "print(df_pmts_subset_2015.plot())"
   ]
  },
  {
   "cell_type": "markdown",
   "metadata": {},
   "source": [
    "### Next: Trying to get another plot out to show outliers based on HCPCS code, grouped by payment_type(?) for 2015"
   ]
  },
  {
   "cell_type": "code",
   "execution_count": null,
   "metadata": {},
   "outputs": [],
   "source": []
  }
 ],
 "metadata": {
  "kernelspec": {
   "display_name": "Python 3",
   "language": "python",
   "name": "python3"
  },
  "language_info": {
   "codemirror_mode": {
    "name": "ipython",
    "version": 3
   },
   "file_extension": ".py",
   "mimetype": "text/x-python",
   "name": "python",
   "nbconvert_exporter": "python",
   "pygments_lexer": "ipython3",
   "version": "3.7.3"
  }
 },
 "nbformat": 4,
 "nbformat_minor": 2
}
