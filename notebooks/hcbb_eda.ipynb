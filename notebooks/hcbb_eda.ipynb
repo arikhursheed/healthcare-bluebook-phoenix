{
 "cells": [
  {
   "cell_type": "code",
   "execution_count": null,
   "metadata": {},
   "outputs": [],
   "source": [
    "import pandas as pd\n",
    "import seaborn as sns\n",
    "import numpy as np"
   ]
  },
  {
   "cell_type": "code",
   "execution_count": null,
   "metadata": {},
   "outputs": [],
   "source": [
    "#bring in combined pickle file all years 2015-2017\n",
    "\n",
    "df_payments_combined = pd.read_pickle('../data/df_payments_combined.pkl')"
   ]
  },
  {
   "cell_type": "markdown",
   "metadata": {},
   "source": [
    "- Chart showing payments (average_medicare_allowed_amount) over time\n",
    "  -Two charts, based on Entity (I, O) for Individual and for Organization\n",
    "- Chart showing counts over time (count of Beneficiaries and count of Services)"
   ]
  },
  {
   "cell_type": "markdown",
   "metadata": {},
   "source": [
    "# Creating New Column: payment_type\n",
    "\n",
    "- Entity I, POS F = Doctor Only\n",
    "- Entity O, POS F = Facility Only\n",
    "- Entity I, POS O = Doctor & Facility\n",
    "- Entity O, POS O = Doctor & Facility"
   ]
  },
  {
   "cell_type": "code",
   "execution_count": null,
   "metadata": {},
   "outputs": [],
   "source": [
    "conditions = [\n",
    "    (df_payments_combined['place_of_service'] == 'O'),\n",
    "    (df_payments_combined['entity_type_of_the_provider'] == 'I') & (df_payments_combined['place_of_service'] == 'F'),\n",
    "    (df_payments_combined['entity_type_of_the_provider'] == 'O') & (df_payments_combined['place_of_service'] == 'F')]\n",
    "\n",
    "choices = ['Doctor & Facility','Doctor Only', 'Facility Only']"
   ]
  },
  {
   "cell_type": "code",
   "execution_count": null,
   "metadata": {},
   "outputs": [],
   "source": [
    "df_payments_combined['payment_type'] = np.select(conditions, choices, default='unknown')"
   ]
  },
  {
   "cell_type": "code",
   "execution_count": null,
   "metadata": {},
   "outputs": [],
   "source": [
    "df_payments_combined.tail()"
   ]
  },
  {
   "cell_type": "code",
   "execution_count": null,
   "metadata": {},
   "outputs": [],
   "source": [
    "df_payments_combined['payment_type'].value_counts()"
   ]
  },
  {
   "cell_type": "markdown",
   "metadata": {},
   "source": [
    "# Groupby NPI/HCPCS/POS/Entity; POS/Entity is now payment_type"
   ]
  },
  {
   "cell_type": "code",
   "execution_count": null,
   "metadata": {},
   "outputs": [],
   "source": [
    "%%time\n",
    "df_avg_pmt = df_payments_combined.groupby(['year',\n",
    "                                           'payment_type',\n",
    "                                           'hcpcs_code']).average_medicare_allowed_amount.mean().to_frame().reset_index()"
   ]
  },
  {
   "cell_type": "code",
   "execution_count": null,
   "metadata": {},
   "outputs": [],
   "source": [
    "df_avg_pmt"
   ]
  },
  {
   "cell_type": "markdown",
   "metadata": {},
   "source": [
    "# Measure how payments and counts change over time\n",
    "“Counts” = count of Beneficiaries and count of Services"
   ]
  },
  {
   "cell_type": "markdown",
   "metadata": {},
   "source": [
    "Mean of number_of_distinct_medicare_beneficiary_per_day_services PER hcpcs PER year"
   ]
  },
  {
   "cell_type": "code",
   "execution_count": null,
   "metadata": {},
   "outputs": [],
   "source": [
    "df_avg_services_day = df_payments_combined.groupby(['year',\n",
    "                                                    'hcpcs_code']).number_of_distinct_medicare_beneficiary_per_day_services.mean().to_frame().reset_index()"
   ]
  },
  {
   "cell_type": "code",
   "execution_count": null,
   "metadata": {},
   "outputs": [],
   "source": [
    "df_avg_services_day"
   ]
  },
  {
   "cell_type": "markdown",
   "metadata": {},
   "source": [
    "Median of number_of_distinct_medicare_beneficiary_per_day_services PER hcpcs PER year"
   ]
  },
  {
   "cell_type": "code",
   "execution_count": null,
   "metadata": {},
   "outputs": [],
   "source": [
    "df_med_services_day = df_payments_combined.groupby(['year',\n",
    "                                                    'hcpcs_code']).number_of_distinct_medicare_beneficiary_per_day_services.median().to_frame().reset_index()"
   ]
  },
  {
   "cell_type": "code",
   "execution_count": null,
   "metadata": {},
   "outputs": [],
   "source": [
    "df_med_services_day"
   ]
  },
  {
   "cell_type": "markdown",
   "metadata": {},
   "source": [
    "May be merging dataframes, TBD - merged, with separate row for each NPI, with separate columns for each year’s payments, etc.?"
   ]
  },
  {
   "cell_type": "code",
   "execution_count": null,
   "metadata": {},
   "outputs": [],
   "source": [
    "#df_payments_merge1 = pd.merge(df_payments_2015, df_payments_2016, on = 'national_provider_identifier', how = 'outer')\n",
    "#df_payments_combmerge = pd.merge(df_payments_merge1, df_payments_2017, on = 'national_provider_identifier', how='outer')"
   ]
  },
  {
   "cell_type": "code",
   "execution_count": null,
   "metadata": {},
   "outputs": [],
   "source": []
  }
 ],
 "metadata": {
  "kernelspec": {
   "display_name": "Python 3",
   "language": "python",
   "name": "python3"
  },
  "language_info": {
   "codemirror_mode": {
    "name": "ipython",
    "version": 3
   },
   "file_extension": ".py",
   "mimetype": "text/x-python",
   "name": "python",
   "nbconvert_exporter": "python",
   "pygments_lexer": "ipython3",
   "version": "3.7.6"
  }
 },
 "nbformat": 4,
 "nbformat_minor": 4
}
