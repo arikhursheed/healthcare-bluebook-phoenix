{
 "cells": [
  {
   "cell_type": "code",
   "execution_count": null,
   "metadata": {},
   "outputs": [],
   "source": [
    "import pandas as pd\n",
    "import seaborn as sns\n",
    "import numpy as np\n",
    "import matplotlib.pyplot as plt\n",
    "%matplotlib inline"
   ]
  },
  {
   "cell_type": "markdown",
   "metadata": {},
   "source": [
    "# bring in combined pickle file all years 2015-2017\n"
   ]
  },
  {
   "cell_type": "code",
   "execution_count": null,
   "metadata": {},
   "outputs": [],
   "source": [
    "df_payments_combined = pd.read_pickle('../data/df_payments_combined.pkl')"
   ]
  },
  {
   "cell_type": "markdown",
   "metadata": {},
   "source": [
    "- Chart showing payments (average_medicare_allowed_amount) over time\n",
    "  -Two charts, based on Entity (I, O) for Individual and for Organization\n",
    "- Chart showing counts over time (count of Beneficiaries and count of Services)"
   ]
  },
  {
   "cell_type": "markdown",
   "metadata": {},
   "source": [
    "# Creating New Column: payment_type\n",
    "\n",
    "- Entity I, POS F = Doctor Only\n",
    "- Entity O, POS F = Facility Only\n",
    "- Entity I, POS O = Doctor & Facility\n",
    "- Entity O, POS O = Doctor & Facility"
   ]
  },
  {
   "cell_type": "code",
   "execution_count": null,
   "metadata": {},
   "outputs": [],
   "source": [
    "conditions = [\n",
    "    (df_payments_combined['place_of_service'] == 'O'),\n",
    "    (df_payments_combined['entity_type_of_the_provider'] == 'I') & (df_payments_combined['place_of_service'] == 'F'),\n",
    "    (df_payments_combined['entity_type_of_the_provider'] == 'O') & (df_payments_combined['place_of_service'] == 'F')]\n",
    "\n",
    "choices = ['Doctor & Facility','Doctor Only', 'Facility Only']"
   ]
  },
  {
   "cell_type": "code",
   "execution_count": null,
   "metadata": {},
   "outputs": [],
   "source": [
    "df_payments_combined['payment_type'] = np.select(conditions, choices, default='unknown')"
   ]
  },
  {
   "cell_type": "code",
   "execution_count": null,
   "metadata": {},
   "outputs": [],
   "source": [
    "df_payments_combined.tail()"
   ]
  },
  {
   "cell_type": "markdown",
   "metadata": {},
   "source": [
    "Convert to csv to create visuals"
   ]
  },
  {
   "cell_type": "code",
   "execution_count": null,
   "metadata": {},
   "outputs": [],
   "source": [
    "df_payments_combined.to_csv('../data/allyearscombined.csv')"
   ]
  },
  {
   "cell_type": "code",
   "execution_count": null,
   "metadata": {},
   "outputs": [],
   "source": [
    "df_payments_combined['payment_type'].value_counts()"
   ]
  },
  {
   "cell_type": "markdown",
   "metadata": {},
   "source": [
    "# Groupby NPI/HCPCS/POS/Entity; POS/Entity is now payment_type"
   ]
  },
  {
   "cell_type": "code",
   "execution_count": null,
   "metadata": {},
   "outputs": [],
   "source": [
    "%%time\n",
    "df_avg_pmt = df_payments_combined.groupby(['year',\n",
    "                                           'payment_type',\n",
    "                                           'hcpcs_code']).average_medicare_allowed_amount.mean().to_frame().reset_index()"
   ]
  },
  {
   "cell_type": "code",
   "execution_count": null,
   "metadata": {},
   "outputs": [],
   "source": [
    "df_avg_pmt"
   ]
  },
  {
   "cell_type": "markdown",
   "metadata": {},
   "source": [
    "# Measure how payments and counts change over time\n",
    "“Counts” = count of Beneficiaries and count of Services"
   ]
  },
  {
   "cell_type": "markdown",
   "metadata": {},
   "source": [
    "Mean of number_of_distinct_medicare_beneficiary_per_day_services PER hcpcs PER year"
   ]
  },
  {
   "cell_type": "code",
   "execution_count": null,
   "metadata": {},
   "outputs": [],
   "source": [
    "df_avg_services_day = df_payments_combined.groupby(['year',\n",
    "                                                    'hcpcs_code']).number_of_distinct_medicare_beneficiary_per_day_services.mean().to_frame().reset_index()"
   ]
  },
  {
   "cell_type": "code",
   "execution_count": null,
   "metadata": {},
   "outputs": [],
   "source": [
    "df_avg_services_day"
   ]
  },
  {
   "cell_type": "markdown",
   "metadata": {},
   "source": [
    "Median of number_of_distinct_medicare_beneficiary_per_day_services PER hcpcs PER year"
   ]
  },
  {
   "cell_type": "code",
   "execution_count": null,
   "metadata": {},
   "outputs": [],
   "source": [
    "df_med_services_day = df_payments_combined.groupby(['year',\n",
    "                                                    'hcpcs_code']).number_of_distinct_medicare_beneficiary_per_day_services.median().to_frame().reset_index()"
   ]
  },
  {
   "cell_type": "code",
   "execution_count": null,
   "metadata": {},
   "outputs": [],
   "source": [
    "df_med_services_day"
   ]
  },
  {
   "cell_type": "markdown",
   "metadata": {},
   "source": [
    "# Pivot Dataframes - for years to be side by side (Code from Diego)"
   ]
  },
  {
   "cell_type": "markdown",
   "metadata": {},
   "source": [
    "Payment Data"
   ]
  },
  {
   "cell_type": "code",
   "execution_count": null,
   "metadata": {},
   "outputs": [],
   "source": [
    "df_payments_combined.columns"
   ]
  },
  {
   "cell_type": "code",
   "execution_count": null,
   "metadata": {},
   "outputs": [],
   "source": [
    "pivot_index = ['national_provider_identifier',\n",
    "               'entity_type_of_the_provider', \n",
    "               'place_of_service',\n",
    "               'payment_type',\n",
    "               'provider_type',\n",
    "               'hcpcs_code',\n",
    "               'hcpcs_description',\n",
    "               'zip_code_of_the_provider', \n",
    "               'state_code_of_the_provider']\n",
    "\n",
    "pivot_cols = ['year'] #should this be index?"
   ]
  },
  {
   "cell_type": "markdown",
   "metadata": {},
   "source": [
    "Avg Medicare Allowed Amount"
   ]
  },
  {
   "cell_type": "code",
   "execution_count": null,
   "metadata": {},
   "outputs": [],
   "source": [
    "%%time\n",
    "df_pmt_pvt = df_payments_combined.pivot_table(index = pivot_index, \n",
    "                                              columns = pivot_cols, \n",
    "                                              values = 'average_medicare_allowed_amount', \n",
    "                                              aggfunc=np.mean)\n",
    "df_pmt_pvt = df_pmt_pvt.reset_index()"
   ]
  },
  {
   "cell_type": "code",
   "execution_count": null,
   "metadata": {},
   "outputs": [],
   "source": [
    "print(df_pmt_pvt.shape)\n",
    "df_pmt_pvt.head()"
   ]
  },
  {
   "cell_type": "code",
   "execution_count": null,
   "metadata": {},
   "outputs": [],
   "source": [
    "df_payments_combined.dtypes"
   ]
  },
  {
   "cell_type": "markdown",
   "metadata": {},
   "source": [
    "# Analysis by # of beneficiaries/day (based on Number of Distinct Medicare Beneficiary/Per Day Services)"
   ]
  },
  {
   "cell_type": "code",
   "execution_count": null,
   "metadata": {},
   "outputs": [],
   "source": [
    "%%time\n",
    "df_bpd_pvt = df_payments_combined.pivot_table(index = pivot_index, \n",
    "                                              columns = pivot_cols, \n",
    "                                              values = 'number_of_distinct_medicare_beneficiary_per_day_services', \n",
    "                                              aggfunc=np.mean)\n",
    "df_bpd_pvt = df_bpd_pvt.reset_index()"
   ]
  },
  {
   "cell_type": "code",
   "execution_count": null,
   "metadata": {
    "scrolled": true
   },
   "outputs": [],
   "source": [
    "print(df_bpd_pvt.shape)\n",
    "df_bpd_pvt.head()"
   ]
  },
  {
   "cell_type": "code",
   "execution_count": null,
   "metadata": {},
   "outputs": [],
   "source": [
    "df_bpd_pvt.to_csv('../data/beneperday.csv')"
   ]
  },
  {
   "cell_type": "code",
   "execution_count": null,
   "metadata": {},
   "outputs": [],
   "source": [
    "df_bpd_pvt.describe(include = 'all')"
   ]
  },
  {
   "cell_type": "code",
   "execution_count": null,
   "metadata": {},
   "outputs": [],
   "source": [
    "df_bpd_pvt.info(verbose = True, null_counts = True)"
   ]
  },
  {
   "cell_type": "markdown",
   "metadata": {},
   "source": [
    "if 2015 & 2017 values are null, fill with 0."
   ]
  },
  {
   "cell_type": "code",
   "execution_count": null,
   "metadata": {
    "scrolled": true
   },
   "outputs": [],
   "source": [
    "df_bpd_pvt = df_bpd_pvt[df_bpd_pvt[2015].notna()]  \n",
    "df_bpd_pvt = df_bpd_pvt[df_bpd_pvt[2017].notna()]\n",
    "#df_bpd_pvt[2016] = df_bpd_pvt[2016].fillna(0) #fillna with 0 if agg. by sum - THIS IS NOT WORKING, EARLIER JUST DROPPED THESE COLUMNS.\n",
    "df_bpd_pvt.tail()"
   ]
  },
  {
   "cell_type": "code",
   "execution_count": null,
   "metadata": {},
   "outputs": [],
   "source": [
    "df_bpd_pvt.shape"
   ]
  },
  {
   "cell_type": "markdown",
   "metadata": {},
   "source": [
    "Create column of bpd_change from 2015 to 2017"
   ]
  },
  {
   "cell_type": "code",
   "execution_count": null,
   "metadata": {},
   "outputs": [],
   "source": [
    "df_bpd_pvt['bpd_change_17_15'] = df_bpd_pvt[2017] - df_bpd_pvt[2015]"
   ]
  },
  {
   "cell_type": "code",
   "execution_count": null,
   "metadata": {},
   "outputs": [],
   "source": [
    "#remove npi -should that be included?  added 2015 & 2017 columns from original code \n",
    "#do we need hcpcs description here?\n",
    "df_bpd_pvt = df_bpd_pvt.groupby(['national_provider_identifier',\n",
    "                                 'hcpcs_code','payment_type',2015,2016, 2017]).bpd_change_17_15.mean().to_frame().reset_index()\n",
    "df_bpd_pvt"
   ]
  },
  {
   "cell_type": "markdown",
   "metadata": {},
   "source": [
    "Code below from Ari to sort by max to min"
   ]
  },
  {
   "cell_type": "code",
   "execution_count": null,
   "metadata": {},
   "outputs": [],
   "source": [
    "df_bpd_sorted=df_bpd_pvt.sort_values('bpd_change',ascending=False)\n",
    "df_bpd_sorted.reset_index()"
   ]
  },
  {
   "cell_type": "code",
   "execution_count": null,
   "metadata": {},
   "outputs": [],
   "source": [
    "#groupby hcpcs_code and payment_type \n",
    "#df_bpd_sorted = df_bpd_pvt.groupby(['payment_type','hcpcs_code']).bpd_change.mean().to_frame().reset_index()\n",
    "#df_bpd_sorted.sort_values('bpd_change',ascending=False)"
   ]
  },
  {
   "cell_type": "code",
   "execution_count": null,
   "metadata": {},
   "outputs": [],
   "source": [
    "#calculate percent change - possible absolute value of change?\n",
    "df_bpd_sorted['%_Change']=  ((df_bpd_pvt['bpd_change'])/(df_bpd_pvt[2017])*100) "
   ]
  },
  {
   "cell_type": "code",
   "execution_count": null,
   "metadata": {},
   "outputs": [],
   "source": [
    "df_bpd_sorted"
   ]
  },
  {
   "cell_type": "code",
   "execution_count": null,
   "metadata": {},
   "outputs": [],
   "source": [
    "# ^ export this df to csv (add state possibly)"
   ]
  },
  {
   "cell_type": "code",
   "execution_count": null,
   "metadata": {},
   "outputs": [],
   "source": [
    "#create new df with group by hcpcs code (1 row per code), do %change after or through Tableau"
   ]
  },
  {
   "cell_type": "code",
   "execution_count": null,
   "metadata": {},
   "outputs": [],
   "source": [
    "df = df_bpd_sorted.loc[df_bpd_sorted['hcpcs_code'] == 'G0471']\n",
    "df"
   ]
  },
  {
   "cell_type": "code",
   "execution_count": null,
   "metadata": {
    "scrolled": true
   },
   "outputs": [],
   "source": [
    "df_bpd_sorted['bpd_change'].sort_values().head(20) #keep the highest change values: top 20? (+ or -)"
   ]
  },
  {
   "cell_type": "code",
   "execution_count": null,
   "metadata": {
    "scrolled": true
   },
   "outputs": [],
   "source": [
    "df_bpd_sorted['bpd_change'].sort_values().tail(20)"
   ]
  },
  {
   "cell_type": "code",
   "execution_count": null,
   "metadata": {},
   "outputs": [],
   "source": [
    "df_bpd_sorted['bpd_change'].value_counts(ascending=False)"
   ]
  },
  {
   "cell_type": "code",
   "execution_count": null,
   "metadata": {},
   "outputs": [],
   "source": [
    "#sns.pairplot(df_bpd_pvt)"
   ]
  }
 ],
 "metadata": {
  "kernelspec": {
   "display_name": "Python 3",
   "language": "python",
   "name": "python3"
  },
  "language_info": {
   "codemirror_mode": {
    "name": "ipython",
    "version": 3
   },
   "file_extension": ".py",
   "mimetype": "text/x-python",
   "name": "python",
   "nbconvert_exporter": "python",
   "pygments_lexer": "ipython3",
   "version": "3.7.6"
  }
 },
 "nbformat": 4,
 "nbformat_minor": 4
}
