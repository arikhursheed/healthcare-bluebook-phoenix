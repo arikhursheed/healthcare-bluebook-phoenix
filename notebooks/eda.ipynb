{
 "cells": [
  {
   "cell_type": "markdown",
   "metadata": {},
   "source": [
    "### import packages"
   ]
  },
  {
   "cell_type": "code",
   "execution_count": 1,
   "metadata": {},
   "outputs": [],
   "source": [
    "import pickle\n",
    "import pandas as pd\n",
    "import matplotlib.pyplot as plt\n",
    "import numpy as np\n",
    "%matplotlib inline"
   ]
  },
  {
   "cell_type": "markdown",
   "metadata": {},
   "source": [
    "### read in combined data"
   ]
  },
  {
   "cell_type": "code",
   "execution_count": 2,
   "metadata": {},
   "outputs": [],
   "source": [
    "df_payments_combined = pd.read_pickle('../data/1_medicare_data/pickled_files/payments_combined.pkl')"
   ]
  },
  {
   "cell_type": "code",
   "execution_count": 3,
   "metadata": {
    "scrolled": true
   },
   "outputs": [
    {
     "data": {
      "text/html": [
       "<div>\n",
       "<style scoped>\n",
       "    .dataframe tbody tr th:only-of-type {\n",
       "        vertical-align: middle;\n",
       "    }\n",
       "\n",
       "    .dataframe tbody tr th {\n",
       "        vertical-align: top;\n",
       "    }\n",
       "\n",
       "    .dataframe thead th {\n",
       "        text-align: right;\n",
       "    }\n",
       "</style>\n",
       "<table border=\"1\" class=\"dataframe\">\n",
       "  <thead>\n",
       "    <tr style=\"text-align: right;\">\n",
       "      <th></th>\n",
       "      <th>national_provider_identifier</th>\n",
       "      <th>last_name_organization_name_of_the_provider</th>\n",
       "      <th>entity_type_of_the_provider</th>\n",
       "      <th>city_of_the_provider</th>\n",
       "      <th>zip_code_of_the_provider</th>\n",
       "      <th>state_code_of_the_provider</th>\n",
       "      <th>provider_type</th>\n",
       "      <th>place_of_service</th>\n",
       "      <th>hcpcs_code</th>\n",
       "      <th>hcpcs_description</th>\n",
       "      <th>number_of_services</th>\n",
       "      <th>number_of_medicare_beneficiaries</th>\n",
       "      <th>number_of_distinct_medicare_beneficiary_per_day_services</th>\n",
       "      <th>average_medicare_allowed_amount</th>\n",
       "      <th>year</th>\n",
       "    </tr>\n",
       "  </thead>\n",
       "  <tbody>\n",
       "    <tr>\n",
       "      <th>0</th>\n",
       "      <td>1003000126</td>\n",
       "      <td>ENKESHAFI</td>\n",
       "      <td>I</td>\n",
       "      <td>CUMBERLAND</td>\n",
       "      <td>215021854</td>\n",
       "      <td>MD</td>\n",
       "      <td>Internal Medicine</td>\n",
       "      <td>F</td>\n",
       "      <td>99217</td>\n",
       "      <td>Hospital observation care discharge</td>\n",
       "      <td>23.0</td>\n",
       "      <td>23.0</td>\n",
       "      <td>23.0</td>\n",
       "      <td>72.680000</td>\n",
       "      <td>2015</td>\n",
       "    </tr>\n",
       "    <tr>\n",
       "      <th>1</th>\n",
       "      <td>1003000126</td>\n",
       "      <td>ENKESHAFI</td>\n",
       "      <td>I</td>\n",
       "      <td>CUMBERLAND</td>\n",
       "      <td>215021854</td>\n",
       "      <td>MD</td>\n",
       "      <td>Internal Medicine</td>\n",
       "      <td>F</td>\n",
       "      <td>99219</td>\n",
       "      <td>Hospital observation care typically 50 minutes</td>\n",
       "      <td>18.0</td>\n",
       "      <td>18.0</td>\n",
       "      <td>18.0</td>\n",
       "      <td>135.850000</td>\n",
       "      <td>2015</td>\n",
       "    </tr>\n",
       "    <tr>\n",
       "      <th>2</th>\n",
       "      <td>1003000126</td>\n",
       "      <td>ENKESHAFI</td>\n",
       "      <td>I</td>\n",
       "      <td>CUMBERLAND</td>\n",
       "      <td>215021854</td>\n",
       "      <td>MD</td>\n",
       "      <td>Internal Medicine</td>\n",
       "      <td>F</td>\n",
       "      <td>99221</td>\n",
       "      <td>Initial hospital inpatient care, typically 30 ...</td>\n",
       "      <td>59.0</td>\n",
       "      <td>58.0</td>\n",
       "      <td>59.0</td>\n",
       "      <td>101.365085</td>\n",
       "      <td>2015</td>\n",
       "    </tr>\n",
       "    <tr>\n",
       "      <th>3</th>\n",
       "      <td>1003000126</td>\n",
       "      <td>ENKESHAFI</td>\n",
       "      <td>I</td>\n",
       "      <td>CUMBERLAND</td>\n",
       "      <td>215021854</td>\n",
       "      <td>MD</td>\n",
       "      <td>Internal Medicine</td>\n",
       "      <td>F</td>\n",
       "      <td>99222</td>\n",
       "      <td>Initial hospital inpatient care, typically 50 ...</td>\n",
       "      <td>132.0</td>\n",
       "      <td>130.0</td>\n",
       "      <td>132.0</td>\n",
       "      <td>139.010455</td>\n",
       "      <td>2015</td>\n",
       "    </tr>\n",
       "    <tr>\n",
       "      <th>4</th>\n",
       "      <td>1003000126</td>\n",
       "      <td>ENKESHAFI</td>\n",
       "      <td>I</td>\n",
       "      <td>CUMBERLAND</td>\n",
       "      <td>215021854</td>\n",
       "      <td>MD</td>\n",
       "      <td>Internal Medicine</td>\n",
       "      <td>F</td>\n",
       "      <td>99223</td>\n",
       "      <td>Initial hospital inpatient care, typically 70 ...</td>\n",
       "      <td>220.0</td>\n",
       "      <td>215.0</td>\n",
       "      <td>220.0</td>\n",
       "      <td>205.185955</td>\n",
       "      <td>2015</td>\n",
       "    </tr>\n",
       "  </tbody>\n",
       "</table>\n",
       "</div>"
      ],
      "text/plain": [
       "   national_provider_identifier last_name_organization_name_of_the_provider  \\\n",
       "0                    1003000126                                   ENKESHAFI   \n",
       "1                    1003000126                                   ENKESHAFI   \n",
       "2                    1003000126                                   ENKESHAFI   \n",
       "3                    1003000126                                   ENKESHAFI   \n",
       "4                    1003000126                                   ENKESHAFI   \n",
       "\n",
       "  entity_type_of_the_provider city_of_the_provider zip_code_of_the_provider  \\\n",
       "0                           I           CUMBERLAND                215021854   \n",
       "1                           I           CUMBERLAND                215021854   \n",
       "2                           I           CUMBERLAND                215021854   \n",
       "3                           I           CUMBERLAND                215021854   \n",
       "4                           I           CUMBERLAND                215021854   \n",
       "\n",
       "  state_code_of_the_provider      provider_type place_of_service hcpcs_code  \\\n",
       "0                         MD  Internal Medicine                F      99217   \n",
       "1                         MD  Internal Medicine                F      99219   \n",
       "2                         MD  Internal Medicine                F      99221   \n",
       "3                         MD  Internal Medicine                F      99222   \n",
       "4                         MD  Internal Medicine                F      99223   \n",
       "\n",
       "                                   hcpcs_description  number_of_services  \\\n",
       "0                Hospital observation care discharge                23.0   \n",
       "1     Hospital observation care typically 50 minutes                18.0   \n",
       "2  Initial hospital inpatient care, typically 30 ...                59.0   \n",
       "3  Initial hospital inpatient care, typically 50 ...               132.0   \n",
       "4  Initial hospital inpatient care, typically 70 ...               220.0   \n",
       "\n",
       "   number_of_medicare_beneficiaries  \\\n",
       "0                              23.0   \n",
       "1                              18.0   \n",
       "2                              58.0   \n",
       "3                             130.0   \n",
       "4                             215.0   \n",
       "\n",
       "   number_of_distinct_medicare_beneficiary_per_day_services  \\\n",
       "0                                               23.0          \n",
       "1                                               18.0          \n",
       "2                                               59.0          \n",
       "3                                              132.0          \n",
       "4                                              220.0          \n",
       "\n",
       "   average_medicare_allowed_amount  year  \n",
       "0                        72.680000  2015  \n",
       "1                       135.850000  2015  \n",
       "2                       101.365085  2015  \n",
       "3                       139.010455  2015  \n",
       "4                       205.185955  2015  "
      ]
     },
     "execution_count": 3,
     "metadata": {},
     "output_type": "execute_result"
    }
   ],
   "source": [
    "df_payments_combined.head()"
   ]
  },
  {
   "cell_type": "markdown",
   "metadata": {},
   "source": [
    "### Create new column for type of payment"
   ]
  },
  {
   "cell_type": "code",
   "execution_count": 4,
   "metadata": {},
   "outputs": [],
   "source": [
    "conditions = [\n",
    "    (df_payments_combined.place_of_service == 'O'),\n",
    "    (df_payments_combined.entity_type_of_the_provider == 'I') & (df_payments_combined.place_of_service == 'F'),\n",
    "    (df_payments_combined.entity_type_of_the_provider == 'O') & (df_payments_combined.place_of_service == 'F')]\n",
    "\n",
    "choices = ['Doctor & Facility', 'Doctor Only', 'Facility Only']"
   ]
  },
  {
   "cell_type": "code",
   "execution_count": 5,
   "metadata": {},
   "outputs": [
    {
     "name": "stdout",
     "output_type": "stream",
     "text": [
      "Wall time: 10.1 s\n"
     ]
    }
   ],
   "source": [
    "%%time\n",
    "df_payments_combined['payment_type'] = np.select(conditions, choices, default = 'unknown')"
   ]
  },
  {
   "cell_type": "code",
   "execution_count": 6,
   "metadata": {},
   "outputs": [
    {
     "data": {
      "text/plain": [
       "Doctor & Facility    17733816\n",
       "Doctor Only          11048040\n",
       "Facility Only          278374\n",
       "Name: payment_type, dtype: int64"
      ]
     },
     "execution_count": 6,
     "metadata": {},
     "output_type": "execute_result"
    }
   ],
   "source": [
    "df_payments_combined.payment_type.value_counts()"
   ]
  },
  {
   "cell_type": "markdown",
   "metadata": {},
   "source": [
    "### Pivot to get years side by side"
   ]
  },
  {
   "cell_type": "markdown",
   "metadata": {},
   "source": [
    "### Payment Data"
   ]
  },
  {
   "cell_type": "code",
   "execution_count": 7,
   "metadata": {},
   "outputs": [
    {
     "data": {
      "text/plain": [
       "Index(['national_provider_identifier',\n",
       "       'last_name_organization_name_of_the_provider',\n",
       "       'entity_type_of_the_provider', 'city_of_the_provider',\n",
       "       'zip_code_of_the_provider', 'state_code_of_the_provider',\n",
       "       'provider_type', 'place_of_service', 'hcpcs_code', 'hcpcs_description',\n",
       "       'number_of_services', 'number_of_medicare_beneficiaries',\n",
       "       'number_of_distinct_medicare_beneficiary_per_day_services',\n",
       "       'average_medicare_allowed_amount', 'year', 'payment_type'],\n",
       "      dtype='object')"
      ]
     },
     "execution_count": 7,
     "metadata": {},
     "output_type": "execute_result"
    }
   ],
   "source": [
    "df_payments_combined.columns"
   ]
  },
  {
   "cell_type": "code",
   "execution_count": 8,
   "metadata": {},
   "outputs": [],
   "source": [
    "pivot_index = ['national_provider_identifier',\n",
    "               'entity_type_of_the_provider', \n",
    "               'place_of_service',\n",
    "               'payment_type',\n",
    "               'provider_type',\n",
    "               'hcpcs_code',\n",
    "               'hcpcs_description',\n",
    "               'zip_code_of_the_provider', \n",
    "               'state_code_of_the_provider']\n",
    "\n",
    "pivot_cols = ['year']"
   ]
  },
  {
   "cell_type": "code",
   "execution_count": 9,
   "metadata": {},
   "outputs": [
    {
     "name": "stdout",
     "output_type": "stream",
     "text": [
      "Wall time: 3min 5s\n"
     ]
    }
   ],
   "source": [
    "%%time\n",
    "df_pmt_pvt = df_payments_combined.pivot_table(index = pivot_index, \n",
    "                                              columns = pivot_cols, \n",
    "                                              values = 'average_medicare_allowed_amount', \n",
    "                                              aggfunc=np.mean)\n",
    "df_avg_pvt = df_avg_pmt.reset_index()"
   ]
  },
  {
   "cell_type": "code",
   "execution_count": 10,
   "metadata": {},
   "outputs": [
    {
     "name": "stdout",
     "output_type": "stream",
     "text": [
      "(20793075, 12)\n"
     ]
    },
    {
     "data": {
      "text/html": [
       "<div>\n",
       "<style scoped>\n",
       "    .dataframe tbody tr th:only-of-type {\n",
       "        vertical-align: middle;\n",
       "    }\n",
       "\n",
       "    .dataframe tbody tr th {\n",
       "        vertical-align: top;\n",
       "    }\n",
       "\n",
       "    .dataframe thead th {\n",
       "        text-align: right;\n",
       "    }\n",
       "</style>\n",
       "<table border=\"1\" class=\"dataframe\">\n",
       "  <thead>\n",
       "    <tr style=\"text-align: right;\">\n",
       "      <th>year</th>\n",
       "      <th>national_provider_identifier</th>\n",
       "      <th>entity_type_of_the_provider</th>\n",
       "      <th>place_of_service</th>\n",
       "      <th>payment_type</th>\n",
       "      <th>provider_type</th>\n",
       "      <th>hcpcs_code</th>\n",
       "      <th>hcpcs_description</th>\n",
       "      <th>zip_code_of_the_provider</th>\n",
       "      <th>state_code_of_the_provider</th>\n",
       "      <th>2015</th>\n",
       "      <th>2016</th>\n",
       "      <th>2017</th>\n",
       "    </tr>\n",
       "  </thead>\n",
       "  <tbody>\n",
       "    <tr>\n",
       "      <th>0</th>\n",
       "      <td>1003000126</td>\n",
       "      <td>I</td>\n",
       "      <td>F</td>\n",
       "      <td>Doctor Only</td>\n",
       "      <td>Internal Medicine</td>\n",
       "      <td>99217</td>\n",
       "      <td>Hospital observation care discharge</td>\n",
       "      <td>215021854</td>\n",
       "      <td>MD</td>\n",
       "      <td>72.680000</td>\n",
       "      <td>72.743158</td>\n",
       "      <td>73.398800</td>\n",
       "    </tr>\n",
       "    <tr>\n",
       "      <th>1</th>\n",
       "      <td>1003000126</td>\n",
       "      <td>I</td>\n",
       "      <td>F</td>\n",
       "      <td>Doctor Only</td>\n",
       "      <td>Internal Medicine</td>\n",
       "      <td>99218</td>\n",
       "      <td>Hospital observation care typically 30 minutes</td>\n",
       "      <td>215021854</td>\n",
       "      <td>MD</td>\n",
       "      <td>NaN</td>\n",
       "      <td>NaN</td>\n",
       "      <td>100.080000</td>\n",
       "    </tr>\n",
       "    <tr>\n",
       "      <th>2</th>\n",
       "      <td>1003000126</td>\n",
       "      <td>I</td>\n",
       "      <td>F</td>\n",
       "      <td>Doctor Only</td>\n",
       "      <td>Internal Medicine</td>\n",
       "      <td>99219</td>\n",
       "      <td>Hospital observation care typically 50 minutes</td>\n",
       "      <td>215021854</td>\n",
       "      <td>MD</td>\n",
       "      <td>135.850000</td>\n",
       "      <td>135.010000</td>\n",
       "      <td>136.380000</td>\n",
       "    </tr>\n",
       "    <tr>\n",
       "      <th>3</th>\n",
       "      <td>1003000126</td>\n",
       "      <td>I</td>\n",
       "      <td>F</td>\n",
       "      <td>Doctor Only</td>\n",
       "      <td>Internal Medicine</td>\n",
       "      <td>99220</td>\n",
       "      <td>Hospital observation care typically 70 minutes...</td>\n",
       "      <td>215021854</td>\n",
       "      <td>MD</td>\n",
       "      <td>NaN</td>\n",
       "      <td>189.239565</td>\n",
       "      <td>190.363729</td>\n",
       "    </tr>\n",
       "    <tr>\n",
       "      <th>4</th>\n",
       "      <td>1003000126</td>\n",
       "      <td>I</td>\n",
       "      <td>F</td>\n",
       "      <td>Doctor Only</td>\n",
       "      <td>Internal Medicine</td>\n",
       "      <td>99221</td>\n",
       "      <td>Initial hospital inpatient care, typically 30 ...</td>\n",
       "      <td>215021854</td>\n",
       "      <td>MD</td>\n",
       "      <td>101.365085</td>\n",
       "      <td>100.750000</td>\n",
       "      <td>101.680000</td>\n",
       "    </tr>\n",
       "  </tbody>\n",
       "</table>\n",
       "</div>"
      ],
      "text/plain": [
       "year  national_provider_identifier entity_type_of_the_provider  \\\n",
       "0                       1003000126                           I   \n",
       "1                       1003000126                           I   \n",
       "2                       1003000126                           I   \n",
       "3                       1003000126                           I   \n",
       "4                       1003000126                           I   \n",
       "\n",
       "year place_of_service payment_type      provider_type hcpcs_code  \\\n",
       "0                   F  Doctor Only  Internal Medicine      99217   \n",
       "1                   F  Doctor Only  Internal Medicine      99218   \n",
       "2                   F  Doctor Only  Internal Medicine      99219   \n",
       "3                   F  Doctor Only  Internal Medicine      99220   \n",
       "4                   F  Doctor Only  Internal Medicine      99221   \n",
       "\n",
       "year                                  hcpcs_description  \\\n",
       "0                   Hospital observation care discharge   \n",
       "1        Hospital observation care typically 30 minutes   \n",
       "2        Hospital observation care typically 50 minutes   \n",
       "3     Hospital observation care typically 70 minutes...   \n",
       "4     Initial hospital inpatient care, typically 30 ...   \n",
       "\n",
       "year zip_code_of_the_provider state_code_of_the_provider        2015  \\\n",
       "0                   215021854                         MD   72.680000   \n",
       "1                   215021854                         MD         NaN   \n",
       "2                   215021854                         MD  135.850000   \n",
       "3                   215021854                         MD         NaN   \n",
       "4                   215021854                         MD  101.365085   \n",
       "\n",
       "year        2016        2017  \n",
       "0      72.743158   73.398800  \n",
       "1            NaN  100.080000  \n",
       "2     135.010000  136.380000  \n",
       "3     189.239565  190.363729  \n",
       "4     100.750000  101.680000  "
      ]
     },
     "execution_count": 10,
     "metadata": {},
     "output_type": "execute_result"
    }
   ],
   "source": [
    "print(df_pmt_pvt.shape)\n",
    "df_pmt_pvt.head()"
   ]
  },
  {
   "cell_type": "markdown",
   "metadata": {},
   "source": [
    "### Number of beneficiaries"
   ]
  },
  {
   "cell_type": "code",
   "execution_count": 11,
   "metadata": {},
   "outputs": [
    {
     "name": "stdout",
     "output_type": "stream",
     "text": [
      "Wall time: 2min 23s\n"
     ]
    }
   ],
   "source": [
    "%%time\n",
    "df_services_pvt = df_payments_combined.pivot_table(index = pivot_index, \n",
    "                                              columns = pivot_cols, \n",
    "                                              values = 'number_of_services', \n",
    "                                              aggfunc=np.mean)\n",
    "df_services_pvt = df_avg_services.reset_index()"
   ]
  },
  {
   "cell_type": "code",
   "execution_count": 12,
   "metadata": {},
   "outputs": [
    {
     "name": "stdout",
     "output_type": "stream",
     "text": [
      "(20793075, 12)\n"
     ]
    },
    {
     "data": {
      "text/html": [
       "<div>\n",
       "<style scoped>\n",
       "    .dataframe tbody tr th:only-of-type {\n",
       "        vertical-align: middle;\n",
       "    }\n",
       "\n",
       "    .dataframe tbody tr th {\n",
       "        vertical-align: top;\n",
       "    }\n",
       "\n",
       "    .dataframe thead th {\n",
       "        text-align: right;\n",
       "    }\n",
       "</style>\n",
       "<table border=\"1\" class=\"dataframe\">\n",
       "  <thead>\n",
       "    <tr style=\"text-align: right;\">\n",
       "      <th>year</th>\n",
       "      <th>national_provider_identifier</th>\n",
       "      <th>entity_type_of_the_provider</th>\n",
       "      <th>place_of_service</th>\n",
       "      <th>payment_type</th>\n",
       "      <th>provider_type</th>\n",
       "      <th>hcpcs_code</th>\n",
       "      <th>hcpcs_description</th>\n",
       "      <th>zip_code_of_the_provider</th>\n",
       "      <th>state_code_of_the_provider</th>\n",
       "      <th>2015</th>\n",
       "      <th>2016</th>\n",
       "      <th>2017</th>\n",
       "    </tr>\n",
       "  </thead>\n",
       "  <tbody>\n",
       "    <tr>\n",
       "      <th>0</th>\n",
       "      <td>1003000126</td>\n",
       "      <td>I</td>\n",
       "      <td>F</td>\n",
       "      <td>Doctor Only</td>\n",
       "      <td>Internal Medicine</td>\n",
       "      <td>99217</td>\n",
       "      <td>Hospital observation care discharge</td>\n",
       "      <td>215021854</td>\n",
       "      <td>MD</td>\n",
       "      <td>23.0</td>\n",
       "      <td>57.0</td>\n",
       "      <td>100.0</td>\n",
       "    </tr>\n",
       "    <tr>\n",
       "      <th>1</th>\n",
       "      <td>1003000126</td>\n",
       "      <td>I</td>\n",
       "      <td>F</td>\n",
       "      <td>Doctor Only</td>\n",
       "      <td>Internal Medicine</td>\n",
       "      <td>99218</td>\n",
       "      <td>Hospital observation care typically 30 minutes</td>\n",
       "      <td>215021854</td>\n",
       "      <td>MD</td>\n",
       "      <td>NaN</td>\n",
       "      <td>NaN</td>\n",
       "      <td>26.0</td>\n",
       "    </tr>\n",
       "    <tr>\n",
       "      <th>2</th>\n",
       "      <td>1003000126</td>\n",
       "      <td>I</td>\n",
       "      <td>F</td>\n",
       "      <td>Doctor Only</td>\n",
       "      <td>Internal Medicine</td>\n",
       "      <td>99219</td>\n",
       "      <td>Hospital observation care typically 50 minutes</td>\n",
       "      <td>215021854</td>\n",
       "      <td>MD</td>\n",
       "      <td>18.0</td>\n",
       "      <td>38.0</td>\n",
       "      <td>52.0</td>\n",
       "    </tr>\n",
       "    <tr>\n",
       "      <th>3</th>\n",
       "      <td>1003000126</td>\n",
       "      <td>I</td>\n",
       "      <td>F</td>\n",
       "      <td>Doctor Only</td>\n",
       "      <td>Internal Medicine</td>\n",
       "      <td>99220</td>\n",
       "      <td>Hospital observation care typically 70 minutes...</td>\n",
       "      <td>215021854</td>\n",
       "      <td>MD</td>\n",
       "      <td>NaN</td>\n",
       "      <td>23.0</td>\n",
       "      <td>59.0</td>\n",
       "    </tr>\n",
       "    <tr>\n",
       "      <th>4</th>\n",
       "      <td>1003000126</td>\n",
       "      <td>I</td>\n",
       "      <td>F</td>\n",
       "      <td>Doctor Only</td>\n",
       "      <td>Internal Medicine</td>\n",
       "      <td>99221</td>\n",
       "      <td>Initial hospital inpatient care, typically 30 ...</td>\n",
       "      <td>215021854</td>\n",
       "      <td>MD</td>\n",
       "      <td>59.0</td>\n",
       "      <td>20.0</td>\n",
       "      <td>16.0</td>\n",
       "    </tr>\n",
       "  </tbody>\n",
       "</table>\n",
       "</div>"
      ],
      "text/plain": [
       "year  national_provider_identifier entity_type_of_the_provider  \\\n",
       "0                       1003000126                           I   \n",
       "1                       1003000126                           I   \n",
       "2                       1003000126                           I   \n",
       "3                       1003000126                           I   \n",
       "4                       1003000126                           I   \n",
       "\n",
       "year place_of_service payment_type      provider_type hcpcs_code  \\\n",
       "0                   F  Doctor Only  Internal Medicine      99217   \n",
       "1                   F  Doctor Only  Internal Medicine      99218   \n",
       "2                   F  Doctor Only  Internal Medicine      99219   \n",
       "3                   F  Doctor Only  Internal Medicine      99220   \n",
       "4                   F  Doctor Only  Internal Medicine      99221   \n",
       "\n",
       "year                                  hcpcs_description  \\\n",
       "0                   Hospital observation care discharge   \n",
       "1        Hospital observation care typically 30 minutes   \n",
       "2        Hospital observation care typically 50 minutes   \n",
       "3     Hospital observation care typically 70 minutes...   \n",
       "4     Initial hospital inpatient care, typically 30 ...   \n",
       "\n",
       "year zip_code_of_the_provider state_code_of_the_provider  2015  2016   2017  \n",
       "0                   215021854                         MD  23.0  57.0  100.0  \n",
       "1                   215021854                         MD   NaN   NaN   26.0  \n",
       "2                   215021854                         MD  18.0  38.0   52.0  \n",
       "3                   215021854                         MD   NaN  23.0   59.0  \n",
       "4                   215021854                         MD  59.0  20.0   16.0  "
      ]
     },
     "execution_count": 12,
     "metadata": {},
     "output_type": "execute_result"
    }
   ],
   "source": [
    "print(df_services_pvt.shape)\n",
    "df_services_pvt.head()"
   ]
  },
  {
   "cell_type": "markdown",
   "metadata": {},
   "source": [
    "#### Number of services"
   ]
  },
  {
   "cell_type": "code",
   "execution_count": null,
   "metadata": {},
   "outputs": [],
   "source": []
  }
 ],
 "metadata": {
  "kernelspec": {
   "display_name": "Python 3",
   "language": "python",
   "name": "python3"
  },
  "language_info": {
   "codemirror_mode": {
    "name": "ipython",
    "version": 3
   },
   "file_extension": ".py",
   "mimetype": "text/x-python",
   "name": "python",
   "nbconvert_exporter": "python",
   "pygments_lexer": "ipython3",
   "version": "3.7.6"
  }
 },
 "nbformat": 4,
 "nbformat_minor": 4
}
