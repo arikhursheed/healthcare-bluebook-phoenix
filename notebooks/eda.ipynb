{
 "cells": [
  {
   "cell_type": "markdown",
   "metadata": {},
   "source": [
    "### import packages"
   ]
  },
  {
   "cell_type": "code",
   "execution_count": 1,
   "metadata": {},
   "outputs": [],
   "source": [
    "import pickle\n",
    "import pandas as pd\n",
    "import matplotlib.pyplot as plt\n",
    "import numpy as np\n",
    "%matplotlib inline"
   ]
  },
  {
   "cell_type": "markdown",
   "metadata": {},
   "source": [
    "### read in combined data"
   ]
  },
  {
   "cell_type": "code",
   "execution_count": 2,
   "metadata": {},
   "outputs": [],
   "source": [
    "df_payments_combined = pd.read_pickle('../data/1_medicare_data/pickled_files/payments_combined.pkl')"
   ]
  },
  {
   "cell_type": "code",
   "execution_count": 3,
   "metadata": {
    "scrolled": true
   },
   "outputs": [
    {
     "data": {
      "text/html": [
       "<div>\n",
       "<style scoped>\n",
       "    .dataframe tbody tr th:only-of-type {\n",
       "        vertical-align: middle;\n",
       "    }\n",
       "\n",
       "    .dataframe tbody tr th {\n",
       "        vertical-align: top;\n",
       "    }\n",
       "\n",
       "    .dataframe thead th {\n",
       "        text-align: right;\n",
       "    }\n",
       "</style>\n",
       "<table border=\"1\" class=\"dataframe\">\n",
       "  <thead>\n",
       "    <tr style=\"text-align: right;\">\n",
       "      <th></th>\n",
       "      <th>national_provider_identifier</th>\n",
       "      <th>last_name_organization_name_of_the_provider</th>\n",
       "      <th>entity_type_of_the_provider</th>\n",
       "      <th>city_of_the_provider</th>\n",
       "      <th>zip_code_of_the_provider</th>\n",
       "      <th>state_code_of_the_provider</th>\n",
       "      <th>provider_type</th>\n",
       "      <th>place_of_service</th>\n",
       "      <th>hcpcs_code</th>\n",
       "      <th>hcpcs_description</th>\n",
       "      <th>number_of_services</th>\n",
       "      <th>number_of_medicare_beneficiaries</th>\n",
       "      <th>number_of_distinct_medicare_beneficiary_per_day_services</th>\n",
       "      <th>average_medicare_allowed_amount</th>\n",
       "      <th>year</th>\n",
       "    </tr>\n",
       "  </thead>\n",
       "  <tbody>\n",
       "    <tr>\n",
       "      <th>0</th>\n",
       "      <td>1003000126</td>\n",
       "      <td>ENKESHAFI</td>\n",
       "      <td>I</td>\n",
       "      <td>CUMBERLAND</td>\n",
       "      <td>215021854</td>\n",
       "      <td>MD</td>\n",
       "      <td>Internal Medicine</td>\n",
       "      <td>F</td>\n",
       "      <td>99217</td>\n",
       "      <td>Hospital observation care discharge</td>\n",
       "      <td>23.0</td>\n",
       "      <td>23.0</td>\n",
       "      <td>23.0</td>\n",
       "      <td>72.680000</td>\n",
       "      <td>2015</td>\n",
       "    </tr>\n",
       "    <tr>\n",
       "      <th>1</th>\n",
       "      <td>1003000126</td>\n",
       "      <td>ENKESHAFI</td>\n",
       "      <td>I</td>\n",
       "      <td>CUMBERLAND</td>\n",
       "      <td>215021854</td>\n",
       "      <td>MD</td>\n",
       "      <td>Internal Medicine</td>\n",
       "      <td>F</td>\n",
       "      <td>99219</td>\n",
       "      <td>Hospital observation care typically 50 minutes</td>\n",
       "      <td>18.0</td>\n",
       "      <td>18.0</td>\n",
       "      <td>18.0</td>\n",
       "      <td>135.850000</td>\n",
       "      <td>2015</td>\n",
       "    </tr>\n",
       "    <tr>\n",
       "      <th>2</th>\n",
       "      <td>1003000126</td>\n",
       "      <td>ENKESHAFI</td>\n",
       "      <td>I</td>\n",
       "      <td>CUMBERLAND</td>\n",
       "      <td>215021854</td>\n",
       "      <td>MD</td>\n",
       "      <td>Internal Medicine</td>\n",
       "      <td>F</td>\n",
       "      <td>99221</td>\n",
       "      <td>Initial hospital inpatient care, typically 30 ...</td>\n",
       "      <td>59.0</td>\n",
       "      <td>58.0</td>\n",
       "      <td>59.0</td>\n",
       "      <td>101.365085</td>\n",
       "      <td>2015</td>\n",
       "    </tr>\n",
       "    <tr>\n",
       "      <th>3</th>\n",
       "      <td>1003000126</td>\n",
       "      <td>ENKESHAFI</td>\n",
       "      <td>I</td>\n",
       "      <td>CUMBERLAND</td>\n",
       "      <td>215021854</td>\n",
       "      <td>MD</td>\n",
       "      <td>Internal Medicine</td>\n",
       "      <td>F</td>\n",
       "      <td>99222</td>\n",
       "      <td>Initial hospital inpatient care, typically 50 ...</td>\n",
       "      <td>132.0</td>\n",
       "      <td>130.0</td>\n",
       "      <td>132.0</td>\n",
       "      <td>139.010455</td>\n",
       "      <td>2015</td>\n",
       "    </tr>\n",
       "    <tr>\n",
       "      <th>4</th>\n",
       "      <td>1003000126</td>\n",
       "      <td>ENKESHAFI</td>\n",
       "      <td>I</td>\n",
       "      <td>CUMBERLAND</td>\n",
       "      <td>215021854</td>\n",
       "      <td>MD</td>\n",
       "      <td>Internal Medicine</td>\n",
       "      <td>F</td>\n",
       "      <td>99223</td>\n",
       "      <td>Initial hospital inpatient care, typically 70 ...</td>\n",
       "      <td>220.0</td>\n",
       "      <td>215.0</td>\n",
       "      <td>220.0</td>\n",
       "      <td>205.185955</td>\n",
       "      <td>2015</td>\n",
       "    </tr>\n",
       "  </tbody>\n",
       "</table>\n",
       "</div>"
      ],
      "text/plain": [
       "   national_provider_identifier last_name_organization_name_of_the_provider  \\\n",
       "0                    1003000126                                   ENKESHAFI   \n",
       "1                    1003000126                                   ENKESHAFI   \n",
       "2                    1003000126                                   ENKESHAFI   \n",
       "3                    1003000126                                   ENKESHAFI   \n",
       "4                    1003000126                                   ENKESHAFI   \n",
       "\n",
       "  entity_type_of_the_provider city_of_the_provider zip_code_of_the_provider  \\\n",
       "0                           I           CUMBERLAND                215021854   \n",
       "1                           I           CUMBERLAND                215021854   \n",
       "2                           I           CUMBERLAND                215021854   \n",
       "3                           I           CUMBERLAND                215021854   \n",
       "4                           I           CUMBERLAND                215021854   \n",
       "\n",
       "  state_code_of_the_provider      provider_type place_of_service hcpcs_code  \\\n",
       "0                         MD  Internal Medicine                F      99217   \n",
       "1                         MD  Internal Medicine                F      99219   \n",
       "2                         MD  Internal Medicine                F      99221   \n",
       "3                         MD  Internal Medicine                F      99222   \n",
       "4                         MD  Internal Medicine                F      99223   \n",
       "\n",
       "                                   hcpcs_description  number_of_services  \\\n",
       "0                Hospital observation care discharge                23.0   \n",
       "1     Hospital observation care typically 50 minutes                18.0   \n",
       "2  Initial hospital inpatient care, typically 30 ...                59.0   \n",
       "3  Initial hospital inpatient care, typically 50 ...               132.0   \n",
       "4  Initial hospital inpatient care, typically 70 ...               220.0   \n",
       "\n",
       "   number_of_medicare_beneficiaries  \\\n",
       "0                              23.0   \n",
       "1                              18.0   \n",
       "2                              58.0   \n",
       "3                             130.0   \n",
       "4                             215.0   \n",
       "\n",
       "   number_of_distinct_medicare_beneficiary_per_day_services  \\\n",
       "0                                               23.0          \n",
       "1                                               18.0          \n",
       "2                                               59.0          \n",
       "3                                              132.0          \n",
       "4                                              220.0          \n",
       "\n",
       "   average_medicare_allowed_amount  year  \n",
       "0                        72.680000  2015  \n",
       "1                       135.850000  2015  \n",
       "2                       101.365085  2015  \n",
       "3                       139.010455  2015  \n",
       "4                       205.185955  2015  "
      ]
     },
     "execution_count": 3,
     "metadata": {},
     "output_type": "execute_result"
    }
   ],
   "source": [
    "df_payments_combined.head()"
   ]
  },
  {
   "cell_type": "markdown",
   "metadata": {},
   "source": [
    "### Create new column for type of payment"
   ]
  },
  {
   "cell_type": "code",
   "execution_count": 7,
   "metadata": {},
   "outputs": [],
   "source": [
    "conditions = [\n",
    "    (df_payments_combined.place_of_service == 'O'),\n",
    "    (df_payments_combined.entity_type_of_the_provider == 'I') & (df_payments_combined.place_of_service == 'F'),\n",
    "    (df_payments_combined.entity_type_of_the_provider == 'O') & (df_payments_combined.place_of_service == 'F')]\n",
    "\n",
    "choices = ['Doctor & Facility', 'Doctor Only', 'Facility Only']"
   ]
  },
  {
   "cell_type": "code",
   "execution_count": 8,
   "metadata": {},
   "outputs": [
    {
     "name": "stdout",
     "output_type": "stream",
     "text": [
      "Wall time: 7 s\n"
     ]
    }
   ],
   "source": [
    "%%time\n",
    "df_payments_combined['payment_type'] = np.select(conditions, choices, default = 'unknown')"
   ]
  },
  {
   "cell_type": "code",
   "execution_count": 13,
   "metadata": {},
   "outputs": [
    {
     "data": {
      "text/plain": [
       "Doctor & Facility    17733816\n",
       "Doctor Only          11048040\n",
       "Facility Only          278374\n",
       "Name: payment_type, dtype: int64"
      ]
     },
     "execution_count": 13,
     "metadata": {},
     "output_type": "execute_result"
    }
   ],
   "source": [
    "df_payments_combined.payment_type.value_counts()"
   ]
  }
 ],
 "metadata": {
  "kernelspec": {
   "display_name": "Python 3",
   "language": "python",
   "name": "python3"
  },
  "language_info": {
   "codemirror_mode": {
    "name": "ipython",
    "version": 3
   },
   "file_extension": ".py",
   "mimetype": "text/x-python",
   "name": "python",
   "nbconvert_exporter": "python",
   "pygments_lexer": "ipython3",
   "version": "3.7.6"
  }
 },
 "nbformat": 4,
 "nbformat_minor": 4
}
